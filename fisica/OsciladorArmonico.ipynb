{
 "metadata": {
  "name": ""
 },
 "nbformat": 3,
 "nbformat_minor": 0,
 "worksheets": [
  {
   "cells": [
    {
     "cell_type": "heading",
     "level": 1,
     "metadata": {},
     "source": [
      "Oscilador Arm\u00f3nico Simple"
     ]
    },
    {
     "cell_type": "markdown",
     "metadata": {},
     "source": [
      "Una part\u00edcula posee un movimiento oscilatorio cuando se desplaza en torno a una posici\u00f3n de equilibro de forma peri\u00f3dica. Se dice que sigue un movimiento oscilatorio *arm\u00f3nico simple* (lo denominaremos MAS para escribir menos a lo largo de este documento) cuando su posici\u00f3n con respecto a la de equilibrio toma la siguiente expresi\u00f3n:\n",
      "\n",
      "$$y = A \\sin(\\omega t + \\alpha)$$\n",
      "\n",
      "Todo el argumento de la funci\u00f3n seno (es decir, $\\omega t + \\alpha$) se le denomina **Fase** del movimiento. A continuaci\u00f3n veremos el significado de los par\u00e1metros que aparecen en la anterior ecuaci\u00f3n. Sin embargo, antes de ello, es necesario comentar que igual que antes se ha escogido la funci\u00f3n seno para definir el movimiento oscilatorio arm\u00f3nico, tambi\u00e9n podr\u00edamos haber escogido la funci\u00f3n coseno. Teniendo en cuenta que $\\sin(\\phi) = \\cos(\\pi/2 - \\phi)$, la anterior expresi\u00f3n podr\u00eda haberse escrito, \n",
      "\n",
      "$$y = A \\cos(\\pi/2 - \\omega t + \\alpha) = A \\cos(\\omega t - \\alpha - \\pi/2) = A \\cos(\\omega t + \\alpha')$$\n",
      "\n",
      "Es decir, lo \u00fanico que cambia es el par\u00e1metro $\\alpha$ que pasa a ser $\\alpha'$. Veremos que esto no tiene ninguna trascendencia.\n",
      "\n",
      "Antes de indagar un poco m\u00e1s en la expresi\u00f3n del MAS cabe preguntarse por qu\u00e9 resulta tan importante en F\u00edsica. \u00bfPor qu\u00e9 se le da tanta importancia a un movimiento tan simple?. Aunque lo veremos de forma m\u00e1s detallada despu\u00e9s, podemos decir contestar ahora con \"porque sucede muy frecuentemente, y en sistemas muy distintos entre s\u00ed\". En efecto, cuando perturbamos ligeramente un sistema f\u00edsico y provocamos que se salga de su estado de equilibrio, el sistema tiende a restaurar este estado y se producen oscilaciones. Esto ocurre sea el sistema f\u00edsico un muelle con una masa, un p\u00e9ndulo, un puente, un circuito el\u00e9ctrico, un l\u00e1ser, un \u00e1tomo, etc. De ah\u00ed que sea importante entender bien qu\u00e9 nos dice el MAS para entender fen\u00f3menos como por ejemplo, la absorci\u00f3n de luz por parte de un medio.\n"
     ]
    },
    {
     "cell_type": "heading",
     "level": 3,
     "metadata": {},
     "source": [
      "Definiciones"
     ]
    },
    {
     "cell_type": "markdown",
     "metadata": {},
     "source": [
      "-----\n",
      "Para entender qu\u00e9 significa cada uno de los par\u00e1metros del MAS, vamos a dibujarlo y a jugar un poco con ellos cambiando sus valores. De este modo tendremos una imagen de qu\u00e9 hace cada uno de ellos."
     ]
    },
    {
     "cell_type": "code",
     "collapsed": false,
     "input": [
      "%matplotlib inline\n",
      "import numpy as np\n",
      "import matplotlib.pyplot as plt"
     ],
     "language": "python",
     "metadata": {},
     "outputs": [],
     "prompt_number": "*"
    },
    {
     "cell_type": "markdown",
     "metadata": {},
     "source": [
      "Definimos los par\u00e1metros `w` ,`alpha` y `A` que ser\u00e1n $\\omega$, $\\alpha$ y $A$ respectivamente, de la ecuaci\u00f3n que define el MAS."
     ]
    },
    {
     "cell_type": "code",
     "collapsed": false,
     "input": [
      "w = 0.3\n",
      "alpha = np.pi#np.pi/2.9\n",
      "A = 10\n",
      "t = np.linspace(0,100,1000)\n",
      "y = A*np.cos(w*t + alpha)\n",
      "plt.plot(t, y)\n",
      "plt.xlabel('Tiempo (s)',fontsize=14)\n",
      "plt.ylabel('y',fontsize=14);"
     ],
     "language": "python",
     "metadata": {},
     "outputs": [
      {
       "metadata": {},
       "output_type": "display_data",
       "png": "[encoded data removed]",
       "text": [
        "<matplotlib.figure.Figure at 0xc28d4d0>"
       ]
      }
     ],
     "prompt_number": 62
    },
    {
     "cell_type": "markdown",
     "metadata": {},
     "source": [
      "Ahora juega un poco con los par\u00e1metros, cambiando sus valores y ejecutando las dos celdas anteriores para actualizar la figura (Nota: para ejecutar las celdas, coloca el cursor del rat\u00f3n en cada una de ellas y presiona el s\u00edmbolo de *Play* en el men\u00fa superior). \u00bfQu\u00e9 observas?.\n",
      "\n",
      "1. Cambia el par\u00e1metro `A` y observa qu\u00e9 cambios se producen en la figura.\n",
      "\n",
      "2. Modifica el p\u00e1rametro $\\omega$ (`w` en el c\u00f3digo superior) entre los valores 0.1 y 2.0. \u00bfQu\u00e9 ocurre?\n",
      "\n",
      "3. Ahora fija el par\u00e1metro `w` a un valor de 0.3. Cambia el par\u00e1metro `alpha` entre los valores de 0 y $\\pi$ (Nota: para que el programa reconozca el valor de pi, este ha de introducirse como np.pi). \u00bfC\u00f3mo cambia la figura?\n",
      "\n",
      "No hay que perder de vista que lo que se dibuja en la figura es la posici\u00f3n de la part\u00edcula en funci\u00f3n del tiempo. Si como se ha visto, al cambiar $\\alpha$ se modifica el valor de y a $t = 0$, esto quiere decir que $\\alpha$ modifica la posici\u00f3n inicial de la part\u00edcula. A este par\u00e1metro se le denomina **Fase inicial** y no tiene unidades. \n",
      "\n",
      "Por otro lado, $\\omega$ cambia el n\u00famero de m\u00e1ximos y m\u00ednimos que se ven en el tiempo fijo de 100 s que hemos dibujado. O dicho de otro modo, cambia el n\u00famero de ciclos que realiza la part\u00edcula en 100 s. A este par\u00e1metro se le denomina **Frecuencia angular** del movimiento y tiene unidades de rad/s. \n",
      "\n",
      "Finalmente, $A$ cambia el valor m\u00e1ximo y el m\u00ednimo que se observan en la figura. A este par\u00e1metro se le denomina **Amplitud** y tiene unidades de longitud (si es que $y$ representa una distancia o posici\u00f3n como estamos asumiendo). Hay que tener en cuenta que un valor positivo o negativo de $y$ lo \u00fanico que significa es que la part\u00edcula se mueve hacia un lado o hacia otro, por lo que la amplitud determina la distancia m\u00e1xima de la part\u00edcula a su posici\u00f3n de equilibro ($y=0$) en un sentido, o en el otro. "
     ]
    },
    {
     "cell_type": "heading",
     "level": 3,
     "metadata": {},
     "source": [
      "M\u00e1s definiciones"
     ]
    },
    {
     "cell_type": "markdown",
     "metadata": {},
     "source": [
      "Aunque ya hemos definido los par\u00e1metros que aparecen en la expresi\u00f3n escogida para definir el MAS, se utilizan algunos m\u00e1s. \n",
      "\n",
      "Por ejemplo, el **Periodo**, normalmente denotado con la letra $T$. Se define como el tiempo en el la part\u00edcula completa un ciclo de su movimiento. O lo que es lo mismo, el tiempo en el que el movimiento se repite. Para ver su relaci\u00f3n con los par\u00e1metros anteriores, podemos tener en cuenta que la funci\u00f3n coseno/seno se repite cada $2\\pi$ radianes, por lo que, \n",
      "\n",
      "$$A \\sin(\\omega t + \\alpha) = A \\sin(\\omega t + \\alpha + 2\\pi) $$\n",
      "\n",
      "Operando un poco dentro de la expresi\u00f3n a la derecha, podemos llegar a, \n",
      "\n",
      "$$A \\sin(\\omega t + \\alpha + 2\\pi) = A \\sin(\\omega (t +  2 \\pi /\\omega) + \\alpha ) $$\n",
      "\n",
      "La expresi\u00f3n anterior nos dice que el movimiento se repetir\u00e1 cuando transcurra un tiempo $T = 2 \\pi /\\omega$ con respecto al instante que hemos escogido $t$. Es decir, el periodo es inversamente proporcional a la frecuencia angular.\n",
      "\n",
      "$$T = 2 \\pi /\\omega$$\n",
      "\n",
      "Se define tambi\u00e9n la **Frecuencia** como el n\u00famero de ciclos por segundo que realiza la part\u00edcula. Normalmente se denota por $\\nu$, y tiene unidades de s$^{-1}$. La relaci\u00f3n con las otras variables es, \n",
      "\n",
      "$$\\nu = \\frac{1}{T} =  \\frac{\\omega}{2 \\pi} $$\n",
      "\n",
      "Como se ve, $\\omega = 2 \\pi \\nu$. "
     ]
    },
    {
     "cell_type": "markdown",
     "metadata": {},
     "source": [
      "----\n",
      "La figura anterior puede provocar que se pierda la perspectiva del movimiento real de la part\u00edcula en el MAS. Hay que tener en cuenta que esa figura representa su posici\u00f3n con el tiempo. Para incidir un poco m\u00e1s en este apartado, se puede ejecutar el siguiente c\u00f3digo, el cual muestra una animaci\u00f3n donde se ve la part\u00edcula en la subfigura de la izquierda y c\u00f3mo se va generando la curva sinusoidal en la subfigura de la derecha. Tambi\u00e9n se puede comprobar que el valor que toma la curva en un instante determinado se corresponde con la posici\u00f3n real de la part\u00edcula en ese instante. Para ello, se puede parar la simulaci\u00f3n en cualquier instante y comprobar este punto."
     ]
    },
    {
     "cell_type": "code",
     "collapsed": false,
     "input": [
      "from matplotlib import animation\n",
      "from JSAnimation import IPython_display\n",
      "# Par\u00e1metros\n",
      "Amp = 10.0\n",
      "T = 10.0\n",
      "w = 2.0*np.pi/T\n",
      "phi = 0.0\n",
      "dt = 0.1\n",
      "time = np.arange(0,30,dt)\n",
      "\n",
      "fig, ax = plt.subplots(1,2,figsize=(10,5))\n",
      "plt.tight_layout()\n",
      "ax[0].set_ylim(-Amp,Amp)\n",
      "ax[0].set_title('Particula')\n",
      "ax[1].set_title('Posicion vs Tiempo')\n",
      "ax[1].set_xlim(0,time[-1])\n",
      "ax[1].set_ylim(-Amp,Amp)\n",
      "ax[1].set_xlabel('Tiempo')\n",
      "ax[1].yaxis.set_label_position('right')\n",
      "ax[1].yaxis.set_ticks_position('right')\n",
      "ax[1].set_ylabel('Posicion')\n",
      "\n",
      "# Animated.\n",
      "#text = ax.text([], 0, 'Cg')\n",
      "line0, = ax[1].plot([],[], 'b',lw=2)\n",
      "point0, = ax[0].plot([], [], 'ro', linestyle='none')\n",
      "point1, = ax[1].plot([], [], 'go',alpha=0.5, linestyle='none')\n",
      "\n",
      "# Non-animated.\n",
      "ax[1].plot(time, np.zeros(time.shape),'k',linestyle='dashed')\n",
      "    \n",
      "def init():\n",
      "    line0.set_data([],[])\n",
      "    point0.set_data([],[])\n",
      "    point1.set_data([],[])\n",
      "    return line0, point0, point1\n",
      "\n",
      "def animate(k):\n",
      "    t = k * dt\n",
      "    y = Amp*np.cos(w*t)\n",
      "    timevec = np.arange(0,t,dt)\n",
      "    yline = Amp*np.cos(w*timevec)\n",
      "    line0.set_data(timevec,yline)\n",
      "    point0.set_data(0,y)\n",
      "    point1.set_data(t, y)\n",
      "    return line0, point0, point1\n",
      "\n",
      "animation.FuncAnimation(fig, animate, init_func=init,frames=300, interval=20,blit=True)"
     ],
     "language": "python",
     "metadata": {},
     "outputs": [],
     "prompt_number": "*"
    },
    {
     "cell_type": "heading",
     "level": 3,
     "metadata": {},
     "source": [
      "Velocidad y aceleraci\u00f3n"
     ]
    },
    {
     "cell_type": "markdown",
     "metadata": {},
     "source": [
      "Hasta ahora hemos visto \u00fanicamente en la definici\u00f3n del MAS c\u00f3mo var\u00eda la posici\u00f3n de la part\u00edcula que lo describe con el tiempo. Veamos ahora cu\u00e1l es la expresi\u00f3n de la velocidad y de la aceleraci\u00f3n, y la relaci\u00f3n entre ellas.\n",
      "\n",
      "La velocidad ser\u00e1 simplemente, \n",
      "\n",
      "$$v = \\frac{d y }{d t}$$\n",
      "\n",
      "por tanto, si $y = A \\sin( \\omega t + \\alpha)$,\n",
      "\n",
      "$$v =  A \\omega \\cos( \\omega t + \\alpha) $$\n",
      "\n",
      "mientras que la aceleraci\u00f3n ser\u00e1, \n",
      "\n",
      "$$a = \\frac{d v }{d t}$$\n",
      "\n",
      "o bien, \n",
      "\n",
      "$$a = - A \\omega^2 \\sin( \\omega t + \\alpha) = - A \\omega^2 y$$\n",
      "\n",
      "Vemos pues varias caracter\u00edsticas, \n",
      "\n",
      "1. La velocidad est\u00e1 desfasada con respecto a la posici\u00f3n $\\pi/2$ (recu\u00e9rdese que el desfase entre el coseno y el seno es $\\pi/2$)\n",
      "\n",
      "2. La aceleraci\u00f3n vuelve a estar desfasada $\\pi/2$ con respecto a la velocidad, lo que da un desfase total de $\\pi$ con respecto a la posici\u00f3n $y$. Ese desfase de $\\pi$ se traduce en un signo negativo. Es decir, la aceleraci\u00f3n es proporcional a la posici\u00f3n, siendo m\u00e1xima en los puntos en donde $y$ es m\u00e1xima (donde $y = A$), y m\u00ednima donde $y = 0$ (en este caso $a = 0$ tambi\u00e9n).\n",
      "\n",
      "\n",
      "Veamos un figura que muestra las tres variables juntas."
     ]
    },
    {
     "cell_type": "code",
     "collapsed": false,
     "input": [
      "w = 0.3\n",
      "alpha = 0#np.pi/2\n",
      "A = 10\n",
      "t = np.linspace(0,100,1000)\n",
      "y = A*np.sin(w*t + alpha)\n",
      "v = A*w*np.cos(w*t + alpha)\n",
      "a = A*w*w*np.sin(w*t + alpha)\n",
      "fig, ax = plt.subplots(3,1,sharex=True)\n",
      "\n",
      "ax[0].plot(t, y)\n",
      "ax[0].set_ylabel('y',fontsize=14)\n",
      "ax[1].plot(t,v,'g')\n",
      "ax[1].set_ylabel('v',fontsize=14)\n",
      "ax[2].plot(t,a,'r')\n",
      "ax[2].set_ylabel('a',fontsize=14)\n",
      "ax[2].set_xlabel('Tiempo (s)',fontsize=14);"
     ],
     "language": "python",
     "metadata": {},
     "outputs": [
      {
       "metadata": {},
       "output_type": "display_data",
       "png": "[encoded data removed]",
       "text": [
        "<matplotlib.figure.Figure at 0xc6e0110>"
       ]
      }
     ],
     "prompt_number": 66
    },
    {
     "cell_type": "heading",
     "level": 3,
     "metadata": {},
     "source": [
      "Movimiento Arm\u00f3nico Simple y Movimiento Circular"
     ]
    },
    {
     "cell_type": "markdown",
     "metadata": {},
     "source": [
      "La aparici\u00f3n de un seno o un coseno en la expresi\u00f3n de la posici\u00f3n de una part\u00edcula que describe un MAS ya nos puede dar una pista acerca de la relaci\u00f3n entre el movimiento circular y el MAS. En efecto, consideremos una part\u00edcula que se mueve sobre una circunferencia de radio $A$, con velocidad angular constante $\\omega = \\frac{d \\theta}{d t}$, donde $\\theta$ es el \u00e1ngulo que forma el radio que une el centro con la part\u00edcula con respecto al eje horizontal o eje X. \u00bfQu\u00e9 valor tomar\u00e1 ese \u00e1ngulo en un instante $t$ cualquiera?. Si sabemos que $\\omega$ es la velocidad angular, y hemos fijado que sea constante, entonces, \n",
      "\n",
      "$$\\theta = \\omega t + \\alpha$$\n",
      "\n",
      "donde $\\alpha$ ser\u00e1 el \u00e1ngulo inicial determinado por la posici\u00f3n de la part\u00edcula al comenzar el movimiento. Como vemos, obtenemos la expresi\u00f3n de la fase del MAS (recu\u00e9rdese que la fase es el argumento del seno/coseno en el MAS).\n",
      "\n",
      "Para ver finalmente la relaci\u00f3n entre el movimiento circular y el MAS, consideremos c\u00f3mo ser\u00e1 la evoluci\u00f3n de la proyecci\u00f3n del movimiento circular sobre uno de los ejes, por ejemplo, el eje horizontal o eje X. Si $\\theta$ es el \u00e1ngulo, la proyecci\u00f3n sobre ese eje ser\u00e1 \n",
      "$$x = A cos(\\theta)$$,\n",
      "\n",
      "donde $A$ recordamos que es el radio de la circunferencia sobre la que se mueve la part\u00edcula. Pero hemos obtenido anteriormente la evoluci\u00f3n de $\\theta$ con el tiempo, por lo que incluy\u00e9ndola en esta ecuaci\u00f3n, tenemos que, \n",
      "\n",
      "$$x(t) = A cos(\\omega t + \\alpha)$$,\n",
      "\n",
      "que es la expresi\u00f3n de un MAS. Lo mismo obtendr\u00edamos (pero con el seno), si nos hubi\u00e9semos fijado en la proyecci\u00f3n sobre el eje vertical o eje Y, en vez de sobre el eje X. Por lo tanto, **la proyecci\u00f3n sobre uno de los ejes de un movimiento circular es un MAS**.\n",
      "\n",
      "Esta relaci\u00f3n se suele utilizar a menudo en diversas situaciones. M\u00e1s concretamente, si la posici\u00f3n de la part\u00edcula que se mueve sobre la circunferencia la determinamos con un vector desde el centro de la misma, este vector rotar\u00e1 en torno al centro con velocidad angular $\\omega$. Las componentes X e Y de ese vector describen por tanto un MAS.\n",
      "\n",
      "Dentro de este esquema, se puede ver que la velocidad y la aceleraci\u00f3n se pueden representar por sendos vectores adelantados con respecto al vector posici\u00f3n un \u00e1ngulo de $\\pi/2$ y $\\pi$ respectivamente.\n",
      "\n",
      "A continuaci\u00f3n se presenta una animaci\u00f3n mostrando el movimiento circular de una part\u00edcula, su vector posici\u00f3n que rota con velocidad angular constante, y su componente vertical, la cual describe un MAS, que se puede ver con respecto al tiempo en la figura de la derecha."
     ]
    },
    {
     "cell_type": "code",
     "collapsed": false,
     "input": [
      "from matplotlib import animation\n",
      "from JSAnimation import IPython_display\n",
      "# Par\u00e1metros\n",
      "Amp = 10.0\n",
      "T = 10.0\n",
      "w = 2.0*np.pi/T\n",
      "phi = 0.0\n",
      "dt = 0.1\n",
      "time = np.arange(0,30,dt)\n",
      "\n",
      "fig, ax = plt.subplots(1,2,figsize=(10,5))\n",
      "\n",
      "plt.tight_layout()\n",
      "ax[0].set_ylim(-Amp*1.2,Amp*1.2)\n",
      "ax[0].set_xlim(-Amp*1.2,Amp*1.2)\n",
      "ax[0].set_title('Particula')\n",
      "ax[1].set_title('Posicion vs Tiempo')\n",
      "ax[1].set_xlim(0,time[-1])\n",
      "ax[1].set_ylim(-Amp*1.2,Amp*1.2)\n",
      "ax[1].set_xlabel('Tiempo')\n",
      "ax[1].set_ylabel('Posicion')\n",
      "\n",
      "# Animated.\n",
      "#text = ax.text([], 0, 'Cg')\n",
      "infovec =np.array( [[0,0,0,Amp]])\n",
      "X,Y,U,V = zip(*infovec)\n",
      "vec0 = ax[0].quiver(X,Y,U,V, angles='xy',scale_units='xy',scale=1,color='b')\n",
      "vec1 = ax[0].quiver(X,Y,U,V, angles='xy',scale_units='xy',scale=1,color='r')\n",
      "point0, = ax[0].plot([], [], 'ko', alpha = 0.5,linestyle='none')\n",
      "point2, = ax[0].plot([], [], 'ro', alpha = 0.5,linestyle='none')\n",
      "point1, = ax[1].plot([], [], 'ro',alpha=0.5, linestyle='none')\n",
      "line1, = ax[1].plot([], [], 'r',lw=2)\n",
      "\n",
      "# Non-animated.\n",
      "ax[1].plot(time, np.zeros(time.shape),'k',linestyle='dashed')\n",
      "circle=plt.Circle((0,0),Amp,color='b',fill=False)    \n",
      "ax[0].add_patch(circle)\n",
      "def init():\n",
      "    line1.set_data([],[])\n",
      "    point0.set_data([],[])\n",
      "    point2.set_data([],[])\n",
      "    point1.set_data([],[])\n",
      "    infovec =np.array( [[0,0,0,Amp]])\n",
      "    X,Y,U,V = zip(*infovec)\n",
      "    vec0.set_UVC(U,V)\n",
      "    vec1.set_UVC(U,V)\n",
      "    return line1, point0, point1,point2,vec0,vec1\n",
      "\n",
      "def animate(k):\n",
      "    t = k * dt\n",
      "    y = Amp*np.cos(w*t)\n",
      "    x = Amp*np.sin(w*t)\n",
      "    timevec = np.arange(0,t,dt)\n",
      "    yline = Amp*np.cos(w*timevec)\n",
      "    line1.set_data(timevec,yline)\n",
      "    point0.set_data(x,y)\n",
      "    point2.set_data(0,y)\n",
      "    point1.set_data(t, y)\n",
      "    \n",
      "    infovec =np.array( [[0,0,x,y]]) \n",
      "    X,Y,U,V = zip(*infovec)\n",
      "    vec0.set_UVC(U,V)\n",
      "    infovec =np.array( [[0,0,0,y]]) \n",
      "    X,Y,U,V = zip(*infovec)\n",
      "    vec1.set_UVC(U,V)\n",
      "    return line1, point0, point1,point2,vec0,vec1\n",
      "\n",
      "animation.FuncAnimation(fig, animate, init_func=init,frames=300, interval=20,blit=True)\n"
     ],
     "language": "python",
     "metadata": {},
     "outputs": [],
     "prompt_number": "*"
    },
    {
     "cell_type": "heading",
     "level": 3,
     "metadata": {},
     "source": [
      "Din\u00e1mica del MAS. \u00bfQu\u00e9 fuerza provoca el MAS?"
     ]
    },
    {
     "cell_type": "markdown",
     "metadata": {},
     "source": [
      "Una vez que tenemos la aceleraci\u00f3n del MAS, podemos obtener f\u00e1cilmente la fuerza que provoca el movimiento teniendo en cuenta la segunda ley de Newton, \n",
      "\n",
      "$$F = m a = - m \\omega^2 y$$\n",
      "\n",
      "la cual podemos reescribir agrupando las constantes que aparecen en la expresi\u00f3n anterior en una nueva que denominaremos $k = m \\omega^2$, \n",
      "\n",
      "$$F = - k y$$\n",
      "\n",
      "Esta expresi\u00f3n nos dice que **en un MAS la fuerza es proporcional y de sentido opuesto al desplazamiento**. Esta constante se suele denominar **constante el\u00e1stica** y depender\u00e1 de las propiedades del sistema f\u00edsico que realiza el MAS. Por ejemplo, para un muelle, $k$ depende de la elasticidad del muelle (de ah\u00ed su nombre), en un p\u00e9ndulo, de su longitud y de la aceleraci\u00f3n de la gravedad, etc. Para el caso de un muelle, la anterior expresi\u00f3n de la fuerza se denomina **Ley de Hooke**."
     ]
    },
    {
     "cell_type": "heading",
     "level": 3,
     "metadata": {},
     "source": [
      "Energ\u00eda potencial y cin\u00e9tica"
     ]
    },
    {
     "cell_type": "markdown",
     "metadata": {},
     "source": [
      "La energ\u00eda cin\u00e9tica de un m\u00f3vil cualquiera es, \n",
      "\n",
      "$$E_c = \\frac{1}{2} m v^2$$\n",
      "\n",
      "Como ya sabemos cu\u00e1l es la expresi\u00f3n de la velocidad, podemos desarrollar la anterior ecuaci\u00f3n para el caso de un MAS, obteniendo, \n",
      "\n",
      "$$E_c = \\frac{1}{2} m (A \\omega \\cos(\\omega t + \\alpha))^2$$\n",
      "\n",
      "Esta expresi\u00f3n la podemos modificar un poco para que aparezca expl\u00edcitamente la posici\u00f3n de la part\u00edcula teniendo en cuenta que $\\cos^2(a) = 1 - \\sin^2(a)$. As\u00ed, tenemos, \n",
      "\n",
      "$$E_c = \\frac{1}{2} m \\omega^2 A^2 (1 - \\sin^2(\\omega t + \\alpha)) =\\frac{1}{2} m \\omega^2 (A^2 - y^2) = \\frac{1}{2} k (A^2 - y^2) $$ \n",
      "\n",
      "Vemos de la expresi\u00f3n final que cuando $y = 0$, la energ\u00eda cin\u00e9tica es m\u00e1xima y toma el valor $\\frac{1}{2} k A^2$, mientras que cuando $y = \\pm A$ la energ\u00eda cin\u00e9tica es m\u00ednima y vale cero.\n",
      "\n",
      "\n",
      "Por otro lado, la fuerza responsable del MAS es una [fuerza conservativa](http://es.wikipedia.org/wiki/Fuerza_conservativa) por lo que podemos calcular su energ\u00eda potencial. Para ello, calcularemos el trabajo realizado por la fuerza cuando la part\u00edcula sufre un peque\u00f1o desplazamiento $dy$, y lo igualaremos a la variaci\u00f3n de la energ\u00eda potencial con signo negativo ($dW = - dU$).\n",
      "\n",
      "$$dW = F dy = - k y dy = - dU$$\n",
      "\n",
      "Integrando la anterior igualdad, nos queda, \n",
      "\n",
      "$$\\int_{U_0}^U U = \\int_0^y k y dy \\Rightarrow U - U_0 = \\frac{1}{2} k y^2$$\n",
      "\n",
      "Normalmente se escoge $U_0 = 0$ por lo que, \n",
      "\n",
      "$$U = \\frac{1}{2} k y^2$$\n",
      "\n",
      "Vemos que la energ\u00eda potencial es m\u00ednima en cuando $y = 0$ y m\u00e1xima cuando $y = A$, justo al contrario que la energ\u00eda potencial. \n",
      "\n",
      "La suma de ambas energ\u00edas ser\u00e1 la energ\u00eda mec\u00e1nica, \n",
      "\n",
      "$$E_{mec} = E_c + U = \\frac{1}{2} k (A^2 - y^2) + \\frac{1}{2} k y^2  = \\frac{1}{2} k A^2$$\n",
      "\n",
      "la cual es constante en el tiempo. Se puede ver por tanto que cuando la energ\u00eda cin\u00e9tica aumenta/disminuye, disminuye/aumenta la energ\u00eda potencial de modo que la suma queda constante. \n",
      "\n",
      "La siguiente figura muestra estas tres energ\u00edas en funci\u00f3n de la posici\u00f3n del oscilador."
     ]
    },
    {
     "cell_type": "code",
     "collapsed": false,
     "input": [
      "k = 0.3\n",
      "Amp = 10.0\n",
      "y = np.linspace(-Amp,Amp,50)\n",
      "Ec = 0.5*k*(A**2 - y**2)\n",
      "U =  0.5*k*y**2\n",
      "fig, ax = plt.subplots()\n",
      "ax.plot(y,Ec,'g',y,U,'r',y,Ec+U,'b')\n",
      "ax.legend(('E. cinetica','E. potencial','E. total'),loc=10)\n",
      "ax.set_xlabel('Posicion',fontsize=14)\n",
      "ax.set_ylabel('Energia',fontsize=14);"
     ],
     "language": "python",
     "metadata": {},
     "outputs": [
      {
       "metadata": {},
       "output_type": "display_data",
       "png": "[encoded data removed]",
       "text": [
        "<matplotlib.figure.Figure at 0xc4b5f50>"
       ]
      }
     ],
     "prompt_number": 61
    },
    {
     "cell_type": "heading",
     "level": 3,
     "metadata": {},
     "source": [
      "Un poco m\u00e1s sobre la importancia del MAS"
     ]
    },
    {
     "cell_type": "markdown",
     "metadata": {},
     "source": [
      "Ya hemos comentado que el MAS se puede trasladar a una gran cantidad de sistemas f\u00edsicos muy diferentes entre s\u00ed. Vamos a ver ahora muy brevemente la raz\u00f3n de esta afirmaci\u00f3n.\n",
      "\n",
      "Cuando un sistema se encuentra en equilibrio y es perturbado por cualquier fuerza externa, tiende a volver a ese punto de equilibrio, debido a la presencia de una fuerza que se opone a esa perturbaci\u00f3n. La expresi\u00f3n de esta fuerza perturbadora depender\u00e1 del sistema particular, pudiendo tener una dependencia complicada con la distancia al punto de equilibrio. Si llamamos a esta distancia $y-y_0$, la fuerza ser\u00e1 en general $F(y-y_0)$, lo que quiere decir \u00fanicamente que depender\u00e1 de esa distancia.\n",
      "\n",
      "Sin embargo, y a pesar de que incluso la expresi\u00f3n exacta de esa funci\u00f3n $F(y-y_0)$ sea desconocida, sabemos que si se comporta *suficientemente bien* en torno al punto de equilibrio $y_0$, podemos aproximar esa funci\u00f3n mediante un polinomio, \n",
      "\n",
      "$$F(y-y_0) \\simeq F(0) + \\frac{d F(y-y_0)}{d y}|_{y=y_0} (y-y_0) + \\frac{d^2 F(y-y_0)}{d y^2}|_{y=y_0} (y-y_0)^2 + \\ldots$$\n",
      "\n",
      "donde $F(0) = 0$ porque estamos supiendo que en $y=y_0$ se encuentra el punto de equilibrio. Si la perturbaci\u00f3n es peque\u00f1a, la aproximaci\u00f3n de primer orden es suficientemente v\u00e1lida (esto equivale a decir que podemos aproximar esa funci\u00f3n en el entorno de $y_0$ por una recta), y por tanto tendr\u00edamos, \n",
      "\n",
      "$$F(y-y_0) \\simeq \\frac{d F(y-y_0)}{d y}|_{y=y_0} (y-y_0)$$\n",
      "\n",
      "Aqu\u00ed, $\\frac{d F(y-y_0)}{d y}|_{y=y_0}$ es una constante que depender\u00e1 del sistema con el que estemos tratando, pero es una constante que podemos llamar $-k$ por lo que, \n",
      "\n",
      "$$F(y-y_0) \\simeq - k (y-y_0)$$\n",
      "\n",
      "la cual es la expresi\u00f3n de la fuerza que provoca un MAS. As\u00ed hemos visto que, independientemente de la expresi\u00f3n de la fuerza restauradora, si la perturbaci\u00f3n es peque\u00f1a, aparecer\u00e1 un MAS debido a la tendencia del sistema a recuperar su punto de equilibrio. Es por tanto esperable que aparezca en distintas situaciones en F\u00edsica, una de las cuales ser\u00e1 el \u00e1tomo al ser perturbado por luz incidente sobre \u00e9l, situaci\u00f3n de extrema importancia en \u00d3ptica."
     ]
    },
    {
     "cell_type": "heading",
     "level": 3,
     "metadata": {},
     "source": [
      "Un par de recursos distintos."
     ]
    },
    {
     "cell_type": "markdown",
     "metadata": {},
     "source": [
      "V\u00eddeo de la excelente serie \"Universo Mec\u00e1nico\" sobre el movimiento arm\u00f3nico."
     ]
    },
    {
     "cell_type": "code",
     "collapsed": false,
     "input": [
      "from IPython.display import YouTubeVideo\n",
      "YouTubeVideo('http://youtu.be/4M4r0wwLZGM')"
     ],
     "language": "python",
     "metadata": {},
     "outputs": [
      {
       "html": [
        "\n",
        "        <iframe\n",
        "            width=\"400\"\n",
        "            height=300\"\n",
        "            src=\"http://www.youtube.com/embed/http://youtu.be/4M4r0wwLZGM\"\n",
        "            frameborder=\"0\"\n",
        "            allowfullscreen\n",
        "        ></iframe>\n",
        "        "
       ],
       "metadata": {},
       "output_type": "pyout",
       "prompt_number": 68,
       "text": [
        "<IPython.lib.display.YouTubeVideo at 0x39c8650>"
       ]
      }
     ],
     "prompt_number": 68
    },
    {
     "cell_type": "markdown",
     "metadata": {},
     "source": [
      "[Lecciones de Kahn Academy sobre el movimiento oscilatorio](https://www.khanacademy.org/science/physics/oscillatory-motion)[En Ingl\u00e9s]"
     ]
    },
    {
     "cell_type": "heading",
     "level": 3,
     "metadata": {},
     "source": [
      "Ejercicio: C\u00e1lculo de la longitud del columpio de Heidi"
     ]
    },
    {
     "cell_type": "code",
     "collapsed": false,
     "input": [
      "from IPython.display import YouTubeVideo\n",
      "YouTubeVideo('http://youtu.be/S-atH108Te0')"
     ],
     "language": "python",
     "metadata": {},
     "outputs": [
      {
       "html": [
        "\n",
        "        <iframe\n",
        "            width=\"400\"\n",
        "            height=300\"\n",
        "            src=\"http://www.youtube.com/embed/http://youtu.be/S-atH108Te0\"\n",
        "            frameborder=\"0\"\n",
        "            allowfullscreen\n",
        "        ></iframe>\n",
        "        "
       ],
       "metadata": {},
       "output_type": "pyout",
       "prompt_number": 1,
       "text": [
        "<IPython.lib.display.YouTubeVideo at 0x19a39d0>"
       ]
      }
     ],
     "prompt_number": 1
    },
    {
     "cell_type": "markdown",
     "metadata": {},
     "source": [
      "\u00bfC\u00f3mo podemos calcular la longitud de ese (largu\u00edsimo) columpio si no vemos el final de las cuerdas?. Vamos a verlo considerando que el tipo de movimiento que sigue Heidi es un MAS, es decir, considerando el columpio como un p\u00e9ndulo. En este caso, veremos en teor\u00eda que el periodo del movimiento vendr\u00e1 dado por la siguiente expresi\u00f3n, \n",
      "\n",
      "$$T = 2 \\pi \\sqrt{\\frac{g}{l}}$$\n",
      "\n",
      "donde $l$ es la longitud de la cuerda del p\u00e9ndulo y $g$ es la aceleraci\u00f3n de la gravedad. Sabiendo esta relaci\u00f3n entre la longitud de la cuerda y el periodo, \u00bfpodr\u00edas averiguar cuanto mide el columpio de Heidi?.\n"
     ]
    },
    {
     "cell_type": "code",
     "collapsed": false,
     "input": [],
     "language": "python",
     "metadata": {},
     "outputs": []
    }
   ],
   "metadata": {}
  }
 ]
}